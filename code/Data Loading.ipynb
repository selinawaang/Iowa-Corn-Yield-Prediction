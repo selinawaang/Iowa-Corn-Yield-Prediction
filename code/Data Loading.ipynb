{
 "cells": [
  {
   "cell_type": "code",
   "execution_count": 1,
   "metadata": {},
   "outputs": [],
   "source": [
    "import Load_Datasets\n",
    "import os\n",
    "import pandas as pd\n",
    "import time\n",
    "import geopandas as ge"
   ]
  },
  {
   "cell_type": "code",
   "execution_count": 2,
   "metadata": {},
   "outputs": [],
   "source": [
    "# Define global variables\n",
    "\n",
    "# get current directory\n",
    "path = os.getcwd()\n",
    "# parent directory\n",
    "parent = os.path.dirname(path)\n",
    "\n",
    "\n",
    "IEM_meta_path = os.path.join(parent,'references/IEM_meta.csv')\n",
    "IEM_meta_processed_path = os.path.join(parent,'data/IEM_meta_processed.csv')\n",
    "station_data_path = os.path.join(parent,'data/station_data.csv')\n",
    "\n",
    "start_date = '1951-01-01'\n",
    "end_date = '2024-08-05'"
   ]
  },
  {
   "cell_type": "code",
   "execution_count": null,
   "metadata": {},
   "outputs": [],
   "source": [
    "# get county for each station\n",
    "# run only once at the beginning of project\n",
    "# county_finder = Load_Datasets.CountyFinder(IEM_meta_path,\n",
    "#                                               IEM_meta_processed_path)\n",
    "# county_finder()"
   ]
  },
  {
   "cell_type": "code",
   "execution_count": 4,
   "metadata": {},
   "outputs": [
    {
     "name": "stdout",
     "output_type": "stream",
     "text": [
      "Getting stations for time period and unique counties\n",
      "Number of unique counties: 99\n",
      "Getting station data\n"
     ]
    },
    {
     "name": "stderr",
     "output_type": "stream",
     "text": [
      "/Users/selinawang/Desktop/Corn Yield Prediction Project/code/Load_Datasets.py:53: UserWarning: Geometry is in a geographic CRS. Results from 'centroid' are likely incorrect. Use 'GeoSeries.to_crs()' to re-project geometries to a projected CRS before this operation.\n",
      "\n",
      "  counties_shape['lon'] = counties_shape.centroid.x\n",
      "/Users/selinawang/Desktop/Corn Yield Prediction Project/code/Load_Datasets.py:54: UserWarning: Geometry is in a geographic CRS. Results from 'centroid' are likely incorrect. Use 'GeoSeries.to_crs()' to re-project geometries to a projected CRS before this operation.\n",
      "\n",
      "  counties_shape['lat'] = counties_shape.centroid.y\n",
      "/Users/selinawang/Desktop/Corn Yield Prediction Project/code/Load_Datasets.py:193: SettingWithCopyWarning: \n",
      "A value is trying to be set on a copy of a slice from a DataFrame.\n",
      "Try using .loc[row_indexer,col_indexer] = value instead\n",
      "\n",
      "See the caveats in the documentation: https://pandas.pydata.org/pandas-docs/stable/user_guide/indexing.html#returning-a-view-versus-a-copy\n",
      "  missing_counties_df[['stid', 'Distance']] = missing_counties_df.apply(find_nearest_station, stations=data, axis=1, result_type=\"expand\")\n",
      "/Users/selinawang/Desktop/Corn Yield Prediction Project/code/Load_Datasets.py:193: SettingWithCopyWarning: \n",
      "A value is trying to be set on a copy of a slice from a DataFrame.\n",
      "Try using .loc[row_indexer,col_indexer] = value instead\n",
      "\n",
      "See the caveats in the documentation: https://pandas.pydata.org/pandas-docs/stable/user_guide/indexing.html#returning-a-view-versus-a-copy\n",
      "  missing_counties_df[['stid', 'Distance']] = missing_counties_df.apply(find_nearest_station, stations=data, axis=1, result_type=\"expand\")\n"
     ]
    },
    {
     "name": "stdout",
     "output_type": "stream",
     "text": [
      "Data saved to /Users/selinawang/Desktop/Corn Yield Prediction Project/data/station_data.csv\n",
      "Status Code: 200\n",
      "Merging station data with IEM metadata\n",
      "Fetching IEM station data took 97.47375273704529 seconds.\n"
     ]
    }
   ],
   "source": [
    "# get IEM station data\n",
    "start = time.time()\n",
    "station_data_fetcher = Load_Datasets.StationDataFetcher('1951-01-01',\n",
    "                                                        '2024-08-05',\n",
    "                                                        IEM_meta_processed_path,\n",
    "                                                        station_data_path,\n",
    "                                                        missing_counties='Nearest')\n",
    "station_data_fetcher()\n",
    "\n",
    "\n",
    "end = time.time()\n",
    "print(f\"Fetching IEM station data took {end - start} seconds.\")"
   ]
  },
  {
   "cell_type": "code",
   "execution_count": 4,
   "metadata": {},
   "outputs": [],
   "source": [
    "station_data = pd.read_csv('../data/station_data.csv')"
   ]
  },
  {
   "cell_type": "markdown",
   "metadata": {},
   "source": []
  }
 ],
 "metadata": {
  "kernelspec": {
   "display_name": "base",
   "language": "python",
   "name": "python3"
  },
  "language_info": {
   "codemirror_mode": {
    "name": "ipython",
    "version": 3
   },
   "file_extension": ".py",
   "mimetype": "text/x-python",
   "name": "python",
   "nbconvert_exporter": "python",
   "pygments_lexer": "ipython3",
   "version": "3.11.5"
  }
 },
 "nbformat": 4,
 "nbformat_minor": 2
}
