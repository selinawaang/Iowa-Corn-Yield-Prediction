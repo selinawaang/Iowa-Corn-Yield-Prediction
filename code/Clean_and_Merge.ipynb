{
 "cells": [
  {
   "cell_type": "code",
   "execution_count": 1,
   "metadata": {},
   "outputs": [],
   "source": [
    "import os\n",
    "import pandas as pd\n",
    "import numpy as np\n",
    "import time\n",
    "import re\n",
    "\n",
    "import logging\n",
    "import sys\n",
    "import Clean_and_Merge\n",
    "\n",
    "# Define global variables\n",
    "# get current directory\n",
    "path = os.getcwd()\n",
    "# parent directory\n",
    "parent = os.path.dirname(path)\n",
    "\n",
    "station_data_path = os.path.join(parent,'data/station_data.csv')\n",
    "corn_data_path = os.path.join(parent,'data/USDA_corn.csv')\n"
   ]
  },
  {
   "cell_type": "code",
   "execution_count": 2,
   "metadata": {},
   "outputs": [],
   "source": [
    "clean = Clean_and_Merge.CleanAndMerge(station_data_path, corn_data_path)"
   ]
  },
  {
   "cell_type": "code",
   "execution_count": 3,
   "metadata": {},
   "outputs": [
    {
     "name": "stdout",
     "output_type": "stream",
     "text": [
      "Missing data removed\n",
      "Data type converted\n",
      "ymd extracted\n",
      "month shifted\n",
      "aggregating values\n",
      "['station', 'year', 'month']\n",
      "                    gdd_50_86_mean  gdd_50_86_std  gdd_50_86_min  \\\n",
      "station year month                                                 \n",
      "IA0000  1951 1            0.000000       0.000000            0.0   \n",
      "             10           7.193548       6.629074            0.0   \n",
      "             11           0.733333       1.654322            0.0   \n",
      "             2            0.178571       0.494681            0.0   \n",
      "             3            0.080645       0.449013            0.0   \n",
      "\n",
      "                    gdd_50_86_max  high_mean   high_std  high_min  high_max  \\\n",
      "station year month                                                            \n",
      "IA0000  1951 1                0.0  27.387097  13.190091        -2        50   \n",
      "             10              22.0  62.645161  10.977396        47        83   \n",
      "             11               6.5  40.266667  10.663936        25        63   \n",
      "             2                2.0  32.964286  15.536056         2        54   \n",
      "             3                2.5  34.225806   9.432955        14        55   \n",
      "\n",
      "                     low_mean    low_std  ...  era5land_srad_min  \\\n",
      "station year month                        ...                      \n",
      "IA0000  1951 1       5.903226  12.874665  ...           2.618862   \n",
      "             10     42.967742   9.307645  ...           2.648295   \n",
      "             11     21.133333   8.939387  ...           3.485378   \n",
      "             2      10.928571  16.458542  ...           3.310990   \n",
      "             3      14.806452   9.717405  ...           3.320168   \n",
      "\n",
      "                    era5land_srad_max  era5land_soilt4_avg_mean  \\\n",
      "station year month                                                \n",
      "IA0000  1951 1              10.756311                 27.729157   \n",
      "             10             16.778297                 54.978598   \n",
      "             11             12.463610                 34.267705   \n",
      "             2              15.539143                 28.209886   \n",
      "             3              22.298626                 31.142002   \n",
      "\n",
      "                    era5land_soilt4_avg_std  era5land_soilt4_avg_min  \\\n",
      "station year month                                                     \n",
      "IA0000  1951 1                     3.218336                18.372370   \n",
      "             10                    7.432521                44.767075   \n",
      "             11                    5.534773                29.462294   \n",
      "             2                     4.294675                18.434263   \n",
      "             3                     1.369476                28.901410   \n",
      "\n",
      "                    era5land_soilt4_avg_max  era5land_soilm4_avg_mean  \\\n",
      "station year month                                                      \n",
      "IA0000  1951 1                    31.690210                  0.324375   \n",
      "             10                   68.718330                  0.347325   \n",
      "             11                   49.838620                  0.344459   \n",
      "             2                    36.327015                  0.360236   \n",
      "             3                    34.578697                  0.381705   \n",
      "\n",
      "                    era5land_soilm4_avg_std  era5land_soilm4_avg_min  \\\n",
      "station year month                                                     \n",
      "IA0000  1951 1                     0.007207                 0.310407   \n",
      "             10                    0.022842                 0.310634   \n",
      "             11                    0.016509                 0.326010   \n",
      "             2                     0.029483                 0.318889   \n",
      "             3                     0.020333                 0.357921   \n",
      "\n",
      "                    era5land_soilm4_avg_max  \n",
      "station year month                           \n",
      "IA0000  1951 1                     0.339390  \n",
      "             10                    0.399073  \n",
      "             11                    0.386908  \n",
      "             2                     0.411868  \n",
      "             3                     0.427525  \n",
      "\n",
      "[5 rows x 28 columns]\n",
      "values aggregated\n",
      "datasets merged\n"
     ]
    }
   ],
   "source": [
    "merged_data = clean.clean_and_merge_datasets()"
   ]
  },
  {
   "cell_type": "code",
   "execution_count": 4,
   "metadata": {},
   "outputs": [
    {
     "data": {
      "text/plain": [
       "99"
      ]
     },
     "execution_count": 4,
     "metadata": {},
     "output_type": "execute_result"
    }
   ],
   "source": [
    "# check number of unique counties\n",
    "clean.merged_data['county'].nunique()"
   ]
  }
 ],
 "metadata": {
  "kernelspec": {
   "display_name": "base",
   "language": "python",
   "name": "python3"
  },
  "language_info": {
   "codemirror_mode": {
    "name": "ipython",
    "version": 3
   },
   "file_extension": ".py",
   "mimetype": "text/x-python",
   "name": "python",
   "nbconvert_exporter": "python",
   "pygments_lexer": "ipython3",
   "version": "3.11.5"
  }
 },
 "nbformat": 4,
 "nbformat_minor": 2
}
